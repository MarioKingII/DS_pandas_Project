{
 "cells": [
  {
   "cell_type": "code",
   "execution_count": 3,
   "metadata": {},
   "outputs": [],
   "source": [
    "import pandas as pd\n",
    "import numpy as np\n",
    "\n",
    "df = pd.read_csv(\"DB.csv\")"
   ]
  },
  {
   "cell_type": "markdown",
   "metadata": {},
   "source": [
    "# Creating a Columns adding the Total Spent during the period of 5 Years."
   ]
  },
  {
   "cell_type": "code",
   "execution_count": 4,
   "metadata": {},
   "outputs": [
    {
     "name": "stdout",
     "output_type": "stream",
     "text": [
      "                         Brand Name              Generic Name  \\\n",
      "0          1st Tier Unifine Pentips      Pen Needle, Diabetic   \n",
      "1     1st Tier Unifine Pentips Plus      Pen Needle, Diabetic   \n",
      "2                          Abacavir          Abacavir Sulfate   \n",
      "3                          Abacavir          Abacavir Sulfate   \n",
      "4                          Abacavir          Abacavir Sulfate   \n",
      "...                             ...                       ...   \n",
      "9989                         Zytiga       Abiraterone Acetate   \n",
      "9990                          Zyvox                 Linezolid   \n",
      "9991                          Zyvox  Linezolid In Dextrose 5%   \n",
      "9992                          Zyvox  Linezolid In Dextrose 5%   \n",
      "9993                          Zyvox  Linezolid In Dextrose 5%   \n",
      "\n",
      "      Manufactor Name  Total 5 years period  Total Spending 2016  \\\n",
      "0     Owen Mumford Us          8.595306e+05         2.162739e+05   \n",
      "1     Owen Mumford Us          1.702817e+06         3.780410e+05   \n",
      "2     Major Pharmaceu                   NaN                  NaN   \n",
      "3     Aurobindo Pharm          2.313468e+07         7.153427e+06   \n",
      "4         Apotex Corp          1.011422e+07         2.491346e+06   \n",
      "...               ...                   ...                  ...   \n",
      "9989  Janssen Biotech          3.143586e+09         8.230387e+08   \n",
      "9990  Pharmaci/Pfizer          9.182821e+06         5.831416e+06   \n",
      "9991  Pharmaci/Pfizer          1.106063e+06         5.808326e+05   \n",
      "9992  Phar-Prep/Pfize          3.024993e+05         1.374269e+05   \n",
      "9993  Phar-Nov/Pfizer                   NaN         2.191458e+04   \n",
      "\n",
      "      Total Units 2016  Total Spending 2017  Total Units 2017  \\\n",
      "0            1052113.0         2.179380e+05         1014318.0   \n",
      "1            1750907.0         4.021247e+05         1850703.0   \n",
      "2                  NaN         1.313004e+04            2832.0   \n",
      "3            1558829.0         5.846822e+06         1296616.0   \n",
      "4             533661.0         3.407719e+06          796097.0   \n",
      "...                ...                  ...               ...   \n",
      "9989        11513285.0         8.772014e+08        11108136.0   \n",
      "9990           79547.0         1.479765e+06           15702.0   \n",
      "9991         2129113.0         2.325290e+05          867822.0   \n",
      "9992          527111.0         7.512445e+04          290406.0   \n",
      "9993           95400.0                  NaN               NaN   \n",
      "\n",
      "      Total Spending 2018  Total Units 2018  Total Spending 2019  \\\n",
      "0            1.671938e+05          761658.0         1.392017e+05   \n",
      "1            3.694028e+05         1813908.0         3.430314e+05   \n",
      "2            1.865371e+04            4401.0         9.639180e+03   \n",
      "3            4.621105e+06         1061307.0         3.097563e+06   \n",
      "4            3.791444e+06          929904.0         3.851299e+05   \n",
      "...                   ...               ...                  ...   \n",
      "9989         1.091393e+09        12623006.0         2.916136e+08   \n",
      "9990         8.609733e+05            6628.0         6.524886e+05   \n",
      "9991         1.425604e+05          575210.0         9.724177e+04   \n",
      "9992         4.953879e+04          206108.0         1.912283e+04   \n",
      "9993         1.331186e+04           56100.0                  NaN   \n",
      "\n",
      "      Total Units 2019  Total Spending 2020  \n",
      "0             642471.0            118923.24  \n",
      "1            1830596.0            210217.15  \n",
      "2               2474.0              2218.37  \n",
      "3             836918.0           2415760.81  \n",
      "4             102341.0             38578.10  \n",
      "...                ...                  ...  \n",
      "9989         3292468.0          60339123.71  \n",
      "9990            5419.0            358178.67  \n",
      "9991          454210.0             52899.31  \n",
      "9992          110400.0             21286.31  \n",
      "9993               NaN              8078.28  \n",
      "\n",
      "[9994 rows x 13 columns]\n"
     ]
    }
   ],
   "source": [
    "\n",
    "df['Total 5 years period'] = df['Total Spending 2016'] + df['Total Spending 2017'] + df['Total Spending 2018'] + df['Total Spending 2019']+ df['Total Spending 2020']\n",
    "cols = list(df.columns)\n",
    "df = df[cols[0:3] + [cols[-1]]+cols[3:12]]\n",
    "print(df)\n"
   ]
  },
  {
   "cell_type": "markdown",
   "metadata": {},
   "source": [
    "# What are the top 20 manufactors producing the most drugs? (top 20)"
   ]
  },
  {
   "cell_type": "code",
   "execution_count": 5,
   "metadata": {},
   "outputs": [
    {
     "data": {
      "text/plain": [
       "Mylan              270\n",
       "Teva USA           251\n",
       "Sandoz             240\n",
       "Amneal Pharmace    211\n",
       "AHP                208\n",
       "Aurobindo Pharm    206\n",
       "Actavis/Teva       206\n",
       "Major Pharmaceu    174\n",
       "Mylan Instituti    161\n",
       "Northstar Rx Ll    151\n",
       "Lupin Pharmaceu    150\n",
       "Zydus Pharmaceu    142\n",
       "West-Ward/Hikma    135\n",
       "Rising Pharm       135\n",
       "Dr.Reddy'S Lab     131\n",
       "Glenmark Pharma    119\n",
       "Par Pharm.         116\n",
       "Apotex Corp        114\n",
       "Valeant/Bausch     107\n",
       "Perrigo Co.        103\n",
       "Name: Manufactor Name, dtype: int64"
      ]
     },
     "execution_count": 5,
     "metadata": {},
     "output_type": "execute_result"
    }
   ],
   "source": [
    "Number_drugs = df['Manufactor Name'].value_counts().sort_values(ascending=False)\n",
    "Number_drugs.head(20)"
   ]
  },
  {
   "cell_type": "markdown",
   "metadata": {},
   "source": [
    "## Let's take a look at the Percentage"
   ]
  },
  {
   "cell_type": "code",
   "execution_count": 6,
   "metadata": {},
   "outputs": [
    {
     "data": {
      "text/plain": [
       "Mylan              2.701621\n",
       "Teva USA           2.511507\n",
       "Sandoz             2.401441\n",
       "Amneal Pharmace    2.111267\n",
       "AHP                2.081249\n",
       "Aurobindo Pharm    2.061237\n",
       "Actavis/Teva       2.061237\n",
       "Major Pharmaceu    1.741045\n",
       "Mylan Instituti    1.610967\n",
       "Northstar Rx Ll    1.510907\n",
       "Lupin Pharmaceu    1.500901\n",
       "Zydus Pharmaceu    1.420853\n",
       "West-Ward/Hikma    1.350810\n",
       "Rising Pharm       1.350810\n",
       "Dr.Reddy'S Lab     1.310786\n",
       "Glenmark Pharma    1.190714\n",
       "Par Pharm.         1.160696\n",
       "Apotex Corp        1.140684\n",
       "Valeant/Bausch     1.070642\n",
       "Perrigo Co.        1.030618\n",
       "Name: Manufactor Name, dtype: float64"
      ]
     },
     "execution_count": 6,
     "metadata": {},
     "output_type": "execute_result"
    }
   ],
   "source": [
    "\n",
    "Number_drugs_Porc =(df['Manufactor Name'].value_counts(normalize = True) * 100)\n",
    "Number_drugs_Porc.head(20)\n"
   ]
  },
  {
   "cell_type": "markdown",
   "metadata": {},
   "source": [
    "## Total of drug produced by the top 20:"
   ]
  },
  {
   "cell_type": "code",
   "execution_count": 7,
   "metadata": {},
   "outputs": [
    {
     "data": {
      "text/plain": [
       "33.31999199519712"
      ]
     },
     "execution_count": 7,
     "metadata": {},
     "output_type": "execute_result"
    }
   ],
   "source": [
    "Number_drugs_Porc.head(20).sum()"
   ]
  },
  {
   "cell_type": "markdown",
   "metadata": {},
   "source": [
    "**It is easy to conclude that when the 33.32% of all the drug are produced by only 20 companies out of 900 manufactors, There is a unbalance that needs atencion in the industry.**"
   ]
  },
  {
   "cell_type": "code",
   "execution_count": 8,
   "metadata": {},
   "outputs": [],
   "source": [
    "Manufactor_grp = df.groupby(['Manufactor Name'])\n"
   ]
  },
  {
   "cell_type": "markdown",
   "metadata": {},
   "source": [
    "# What manufactors are collecting money the most? (top 20)"
   ]
  },
  {
   "cell_type": "code",
   "execution_count": 9,
   "metadata": {},
   "outputs": [
    {
     "data": {
      "text/plain": [
       "Manufactor Name\n",
       "Novo Nordisk       3.831530e+10\n",
       "Boehringer Ing.    3.217346e+10\n",
       "Gilead Sciences    3.190075e+10\n",
       "BMS Primarycare    3.147041e+10\n",
       "Eli Lilly & Co.    3.081339e+10\n",
       "Janssen Pharm.     2.965410e+10\n",
       "Merck Sharp & D    2.820278e+10\n",
       "Glaxosmithkline    2.786099e+10\n",
       "Sanofi-Aventis     2.713355e+10\n",
       "Pfizer US Pharm    2.667853e+10\n",
       "Astrazeneca        2.651138e+10\n",
       "Celgene/BMS        2.499334e+10\n",
       "Abbvie US LLC      1.971530e+10\n",
       "Allergan Inc.      1.870667e+10\n",
       "Novartis           1.805327e+10\n",
       "Amgen              1.547315e+10\n",
       "Astellas Pharma    1.441836e+10\n",
       "Mylan              9.818508e+09\n",
       "Teva USA           9.775919e+09\n",
       "Pharmacyclics,     9.616382e+09\n",
       "Name: Total 5 years period, dtype: float64"
      ]
     },
     "execution_count": 9,
     "metadata": {},
     "output_type": "execute_result"
    }
   ],
   "source": [
    "Spent_Manufactor= Manufactor_grp['Total 5 years period'].sum().sort_values(ascending=False)\n",
    "Spent_Manufactor.head(20)"
   ]
  },
  {
   "cell_type": "code",
   "execution_count": 10,
   "metadata": {},
   "outputs": [],
   "source": [
    "Generic_grp = df.groupby(['Generic Name'])"
   ]
  },
  {
   "cell_type": "code",
   "execution_count": 11,
   "metadata": {},
   "outputs": [],
   "source": [
    "#Generic_grp['Manufactor Name'].value_counts()"
   ]
  },
  {
   "cell_type": "markdown",
   "metadata": {},
   "source": [
    "# Is there a monopoly when it comes to the pharmaceutical industry?"
   ]
  },
  {
   "cell_type": "code",
   "execution_count": 22,
   "metadata": {},
   "outputs": [
    {
     "data": {
      "text/html": [
       "<div>\n",
       "<style scoped>\n",
       "    .dataframe tbody tr th:only-of-type {\n",
       "        vertical-align: middle;\n",
       "    }\n",
       "\n",
       "    .dataframe tbody tr th {\n",
       "        vertical-align: top;\n",
       "    }\n",
       "\n",
       "    .dataframe thead th {\n",
       "        text-align: right;\n",
       "    }\n",
       "</style>\n",
       "<table border=\"1\" class=\"dataframe\">\n",
       "  <thead>\n",
       "    <tr style=\"text-align: right;\">\n",
       "      <th></th>\n",
       "      <th>Total Collected (5 years)</th>\n",
       "      <th>Different drugs produced</th>\n",
       "      <th>Different drugs produced</th>\n",
       "    </tr>\n",
       "  </thead>\n",
       "  <tbody>\n",
       "    <tr>\n",
       "      <th>Novo Nordisk</th>\n",
       "      <td>3.831530e+10</td>\n",
       "      <td>36</td>\n",
       "      <td>0.360216</td>\n",
       "    </tr>\n",
       "    <tr>\n",
       "      <th>Boehringer Ing.</th>\n",
       "      <td>3.217346e+10</td>\n",
       "      <td>31</td>\n",
       "      <td>0.310186</td>\n",
       "    </tr>\n",
       "    <tr>\n",
       "      <th>Gilead Sciences</th>\n",
       "      <td>3.190075e+10</td>\n",
       "      <td>21</td>\n",
       "      <td>0.210126</td>\n",
       "    </tr>\n",
       "    <tr>\n",
       "      <th>BMS Primarycare</th>\n",
       "      <td>3.147041e+10</td>\n",
       "      <td>20</td>\n",
       "      <td>0.200120</td>\n",
       "    </tr>\n",
       "    <tr>\n",
       "      <th>Eli Lilly &amp; Co.</th>\n",
       "      <td>3.081339e+10</td>\n",
       "      <td>51</td>\n",
       "      <td>0.510306</td>\n",
       "    </tr>\n",
       "    <tr>\n",
       "      <th>Janssen Pharm.</th>\n",
       "      <td>2.965410e+10</td>\n",
       "      <td>26</td>\n",
       "      <td>0.260156</td>\n",
       "    </tr>\n",
       "    <tr>\n",
       "      <th>Merck Sharp &amp; D</th>\n",
       "      <td>2.820278e+10</td>\n",
       "      <td>66</td>\n",
       "      <td>0.660396</td>\n",
       "    </tr>\n",
       "    <tr>\n",
       "      <th>Glaxosmithkline</th>\n",
       "      <td>2.786099e+10</td>\n",
       "      <td>50</td>\n",
       "      <td>0.500300</td>\n",
       "    </tr>\n",
       "    <tr>\n",
       "      <th>Sanofi-Aventis</th>\n",
       "      <td>2.713355e+10</td>\n",
       "      <td>31</td>\n",
       "      <td>0.310186</td>\n",
       "    </tr>\n",
       "    <tr>\n",
       "      <th>Pfizer US Pharm</th>\n",
       "      <td>2.667853e+10</td>\n",
       "      <td>91</td>\n",
       "      <td>0.910546</td>\n",
       "    </tr>\n",
       "    <tr>\n",
       "      <th>Astrazeneca</th>\n",
       "      <td>2.651138e+10</td>\n",
       "      <td>38</td>\n",
       "      <td>0.380228</td>\n",
       "    </tr>\n",
       "    <tr>\n",
       "      <th>Celgene/BMS</th>\n",
       "      <td>2.499334e+10</td>\n",
       "      <td>11</td>\n",
       "      <td>0.110066</td>\n",
       "    </tr>\n",
       "    <tr>\n",
       "      <th>Abbvie US LLC</th>\n",
       "      <td>1.971530e+10</td>\n",
       "      <td>35</td>\n",
       "      <td>0.350210</td>\n",
       "    </tr>\n",
       "    <tr>\n",
       "      <th>Allergan Inc.</th>\n",
       "      <td>1.870667e+10</td>\n",
       "      <td>53</td>\n",
       "      <td>0.530318</td>\n",
       "    </tr>\n",
       "    <tr>\n",
       "      <th>Novartis</th>\n",
       "      <td>1.805327e+10</td>\n",
       "      <td>60</td>\n",
       "      <td>0.600360</td>\n",
       "    </tr>\n",
       "    <tr>\n",
       "      <th>Amgen</th>\n",
       "      <td>1.547315e+10</td>\n",
       "      <td>28</td>\n",
       "      <td>0.280168</td>\n",
       "    </tr>\n",
       "    <tr>\n",
       "      <th>Astellas Pharma</th>\n",
       "      <td>1.441836e+10</td>\n",
       "      <td>7</td>\n",
       "      <td>0.070042</td>\n",
       "    </tr>\n",
       "    <tr>\n",
       "      <th>Mylan</th>\n",
       "      <td>9.818508e+09</td>\n",
       "      <td>270</td>\n",
       "      <td>2.701621</td>\n",
       "    </tr>\n",
       "    <tr>\n",
       "      <th>Teva USA</th>\n",
       "      <td>9.775919e+09</td>\n",
       "      <td>251</td>\n",
       "      <td>2.511507</td>\n",
       "    </tr>\n",
       "    <tr>\n",
       "      <th>Pharmacyclics,</th>\n",
       "      <td>9.616382e+09</td>\n",
       "      <td>1</td>\n",
       "      <td>0.010006</td>\n",
       "    </tr>\n",
       "  </tbody>\n",
       "</table>\n",
       "</div>"
      ],
      "text/plain": [
       "                 Total Collected (5 years)  Different drugs produced  \\\n",
       "Novo Nordisk                  3.831530e+10                        36   \n",
       "Boehringer Ing.               3.217346e+10                        31   \n",
       "Gilead Sciences               3.190075e+10                        21   \n",
       "BMS Primarycare               3.147041e+10                        20   \n",
       "Eli Lilly & Co.               3.081339e+10                        51   \n",
       "Janssen Pharm.                2.965410e+10                        26   \n",
       "Merck Sharp & D               2.820278e+10                        66   \n",
       "Glaxosmithkline               2.786099e+10                        50   \n",
       "Sanofi-Aventis                2.713355e+10                        31   \n",
       "Pfizer US Pharm               2.667853e+10                        91   \n",
       "Astrazeneca                   2.651138e+10                        38   \n",
       "Celgene/BMS                   2.499334e+10                        11   \n",
       "Abbvie US LLC                 1.971530e+10                        35   \n",
       "Allergan Inc.                 1.870667e+10                        53   \n",
       "Novartis                      1.805327e+10                        60   \n",
       "Amgen                         1.547315e+10                        28   \n",
       "Astellas Pharma               1.441836e+10                         7   \n",
       "Mylan                         9.818508e+09                       270   \n",
       "Teva USA                      9.775919e+09                       251   \n",
       "Pharmacyclics,                9.616382e+09                         1   \n",
       "\n",
       "                 Different drugs produced  \n",
       "Novo Nordisk                     0.360216  \n",
       "Boehringer Ing.                  0.310186  \n",
       "Gilead Sciences                  0.210126  \n",
       "BMS Primarycare                  0.200120  \n",
       "Eli Lilly & Co.                  0.510306  \n",
       "Janssen Pharm.                   0.260156  \n",
       "Merck Sharp & D                  0.660396  \n",
       "Glaxosmithkline                  0.500300  \n",
       "Sanofi-Aventis                   0.310186  \n",
       "Pfizer US Pharm                  0.910546  \n",
       "Astrazeneca                      0.380228  \n",
       "Celgene/BMS                      0.110066  \n",
       "Abbvie US LLC                    0.350210  \n",
       "Allergan Inc.                    0.530318  \n",
       "Novartis                         0.600360  \n",
       "Amgen                            0.280168  \n",
       "Astellas Pharma                  0.070042  \n",
       "Mylan                            2.701621  \n",
       "Teva USA                         2.511507  \n",
       "Pharmacyclics,                   0.010006  "
      ]
     },
     "execution_count": 22,
     "metadata": {},
     "output_type": "execute_result"
    }
   ],
   "source": [
    "Final = pd.concat([Spent_Manufactor, Number_drugs, Number_drugs_Porc], axis='columns')\n",
    "Final.rename(columns ={'Total 5 years period': 'Total Collected (5 years)', 'Manufactor Name': 'Different drugs produced'}, inplace=True)\n",
    "Final.head(20)"
   ]
  },
  {
   "cell_type": "markdown",
   "metadata": {},
   "source": [
    "**There is no way to afirm that there is actually a monopoly on the pharmaceutical industry, however it is clear that more competicion is needed, and even the intelectual propety is critial element for the invovation and the progress of humanity, when it comes to essencials some flexibility must be creates, Companies like \"Astellas Pharma\", \"Celgene\",  are able to profit by concentrairing in very expensive and exclusive medication.**"
   ]
  }
 ],
 "metadata": {
  "kernelspec": {
   "display_name": "Python 3.10.0 64-bit",
   "language": "python",
   "name": "python3"
  },
  "language_info": {
   "codemirror_mode": {
    "name": "ipython",
    "version": 3
   },
   "file_extension": ".py",
   "mimetype": "text/x-python",
   "name": "python",
   "nbconvert_exporter": "python",
   "pygments_lexer": "ipython3",
   "version": "3.10.0"
  },
  "orig_nbformat": 4,
  "vscode": {
   "interpreter": {
    "hash": "8d08d3b0f578e1e9056e2c0af19018e09245eefdb3471d4d490fbf515aa0affb"
   }
  }
 },
 "nbformat": 4,
 "nbformat_minor": 2
}
